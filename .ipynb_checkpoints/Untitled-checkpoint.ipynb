{
 "cells": [
  {
   "cell_type": "code",
   "execution_count": 1,
   "metadata": {},
   "outputs": [],
   "source": [
    "from torch.utils.data import DataLoader, Dataset\n",
    "import numpy as np\n",
    "\n",
    "from transformers import BartModel\n",
    "from kobart import get_pytorch_kobart_model, get_kobart_tokenizer\n",
    "\n",
    "class KGBDDataset(Dataset):\n",
    "    def __init__(self, data, max_seq_len=128):\n",
    "        self.data = data\n",
    "        self.max_seq_len = max_seq_len\n",
    "        self.tokenizer = get_kobart_tokenizer()\n",
    "\n",
    "    def __len__(self):\n",
    "        return len(self.data)\n",
    "\n",
    "    def __getitem__(self, index):\n",
    "        data = self.data[index]\n",
    "        comments, label = data['comments'], data['contain_gender_bias']\n",
    "        tokens = [self.tokenizer.bos_token] + \\\n",
    "            self.tokenizer.tokenize(comments) + [self.tokenizer.eos_token]\n",
    "        encoder_input_id = self.tokenizer.convert_tokens_to_ids(tokens)\n",
    "        attention_mask = [1] * len(encoder_input_id)\n",
    "        if len(encoder_input_id) < self.max_seq_len:\n",
    "            while len(encoder_input_id) < self.max_seq_len:\n",
    "                encoder_input_id += [self.tokenizer.pad_token_id]\n",
    "                attention_mask += [0]\n",
    "        else:\n",
    "            encoder_input_id = encoder_input_id[:self.max_seq_len - 1] + [\n",
    "                self.tokenizer.eos_token_id]\n",
    "            attention_mask = attention_mask[:self.max_seq_len]\n",
    "        return {'input_ids': np.array(encoder_input_id, dtype=np.int_),\n",
    "                'attention_mask': np.array(attention_mask, dtype=np.float),\n",
    "                'labels': np.array(label, dtype=np.int_)}"
   ]
  },
  {
   "cell_type": "code",
   "execution_count": 2,
   "metadata": {},
   "outputs": [
    {
     "name": "stderr",
     "output_type": "stream",
     "text": [
      "I0301 11:21:32.561618 139737651967808 load.py:54] korean-hate-speech is already installed in /root/.kocohub.\n"
     ]
    },
    {
     "name": "stdout",
     "output_type": "stream",
     "text": [
      "using cached model\n",
      "using cached model\n"
     ]
    }
   ],
   "source": [
    "import koco\n",
    "\n",
    "train_dev = koco.load_dataset('korean-hate-speech', mode='train_dev')\n",
    "\n",
    "batch_size = 16\n",
    "train_dataset = KGBDDataset(train_dev['train'])\n",
    "valid_dataset = KGBDDataset(train_dev['dev'])\n",
    "train_dataloader = DataLoader(train_dataset,\n",
    "                                batch_size=batch_size,\n",
    "                                num_workers=4, shuffle=True)\n",
    "valid_dataloader = DataLoader(valid_dataset,\n",
    "                                batch_size=batch_size,\n",
    "                                num_workers=4, shuffle=False)"
   ]
  },
  {
   "cell_type": "code",
   "execution_count": 3,
   "metadata": {},
   "outputs": [],
   "source": [
    "import torch"
   ]
  },
  {
   "cell_type": "code",
   "execution_count": null,
   "metadata": {},
   "outputs": [
    {
     "name": "stdout",
     "output_type": "stream",
     "text": [
      "using cached model\n"
     ]
    }
   ],
   "source": [
    "from transformers.optimization import AdamW, get_cosine_schedule_with_warmup\n",
    "from transformers import BartForSequenceClassification\n",
    "\n",
    "model = BartForSequenceClassification.from_pretrained(get_pytorch_kobart_model()).cuda()\n",
    "\n",
    "param_optimizer = list(model.named_parameters())\n",
    "no_decay = ['bias', 'LayerNorm.bias', 'LayerNorm.weight']\n",
    "optimizer_grouped_parameters = [\n",
    "    {'params': [p for n, p in param_optimizer if not any(\n",
    "        nd in n for nd in no_decay)], 'weight_decay': 0.01},\n",
    "    {'params': [p for n, p in param_optimizer if any(\n",
    "        nd in n for nd in no_decay)], 'weight_decay': 0.0}\n",
    "]\n",
    "optimizer = AdamW(optimizer_grouped_parameters,\n",
    "                  lr=5e-5, correct_bias=False)\n",
    "\n",
    "scheduler = get_cosine_schedule_with_warmup(\n",
    "    optimizer,\n",
    "    num_warmup_steps=int(len(train_dataloader)*0.1), \n",
    "    num_training_steps=len(train_dataloader)\n",
    ")"
   ]
  },
  {
   "cell_type": "code",
   "execution_count": null,
   "metadata": {},
   "outputs": [],
   "source": [
    "from tqdm import tqdm\n",
    "\n",
    "best_acc = 0.0\n",
    "\n",
    "for epoch in range(20):\n",
    "    model.train()\n",
    "    \n",
    "    losses = 0.0\n",
    "    iters = len(train_dataloader)\n",
    "    pbar = tqdm(train_dataloader)\n",
    "    for i,batch in enumerate(pbar):\n",
    "        pbar.set_description('loss: {:.4f}'.format(losses/(i+1)))\n",
    "        input_ids, attention_mask, labels = batch['input_ids'], batch['attention_mask'], batch['labels']\n",
    "        \n",
    "        optimizer.zero_grad()\n",
    "        \n",
    "        input_ids = input_ids.to(model.device)\n",
    "        attention_mask = attention_mask.to(model.device)\n",
    "        labels = labels.to(model.device)\n",
    "        outs = model(input_ids=input_ids, \n",
    "                     attention_mask=attention_mask, \n",
    "                     labels=labels, \n",
    "                     return_dict=True)\n",
    "        loss = outs.loss\n",
    "        \n",
    "        loss.backward()\n",
    "        optimizer.step()\n",
    "        scheduler.step(epoch + i / iters)\n",
    "        \n",
    "        losses += loss.item()\n",
    "        \n",
    "    model.eval()\n",
    "    \n",
    "    acc = 0.0\n",
    "    pbar = tqdm(valid_dataloader)\n",
    "    for i,batch in enumerate(pbar):\n",
    "        pbar.set_description('acc: {:.2f}'.format(acc/(i+1)))\n",
    "        input_ids, attention_mask, labels = batch['input_ids'], batch['attention_mask'], batch['labels']\n",
    "        \n",
    "        input_ids = input_ids.to(model.device)\n",
    "        attention_mask = attention_mask.to(model.device)\n",
    "        labels = labels.to(model.device)\n",
    "        outs = model(input_ids=input_ids, \n",
    "                     attention_mask=attention_mask, \n",
    "                     labels=None, \n",
    "                     return_dict=True)\n",
    "        preds = torch.nn.functional.softmax(outs.logits, dim=1).max(dim=-1)[1]\n",
    "        acc += (((preds==labels).sum())/preds.size(0)).item()\n",
    "        \n",
    "        losses += loss.item()\n",
    "    \n",
    "    if acc>best_acc:\n",
    "        best_acc = acc\n",
    "        torch.save(model.state_dict(), 'models/best_acc.pth')"
   ]
  },
  {
   "cell_type": "code",
   "execution_count": null,
   "metadata": {},
   "outputs": [],
   "source": []
  }
 ],
 "metadata": {
  "kernelspec": {
   "display_name": "Python 3",
   "language": "python",
   "name": "python3"
  },
  "language_info": {
   "codemirror_mode": {
    "name": "ipython",
    "version": 3
   },
   "file_extension": ".py",
   "mimetype": "text/x-python",
   "name": "python",
   "nbconvert_exporter": "python",
   "pygments_lexer": "ipython3",
   "version": "3.6.8"
  }
 },
 "nbformat": 4,
 "nbformat_minor": 2
}
